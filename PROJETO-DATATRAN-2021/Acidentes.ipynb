{
 "cells": [
  {
   "cell_type": "markdown",
   "id": "ae9181bc-82c9-471a-a029-fa6578fe44b5",
   "metadata": {
    "jp-MarkdownHeadingCollapsed": true,
    "tags": []
   },
   "source": [
    "### Importando bibliotecas"
   ]
  },
  {
   "cell_type": "code",
   "execution_count": 1,
   "id": "fce9fb34-8480-4e7d-9fed-3c1c84fcfc71",
   "metadata": {},
   "outputs": [],
   "source": [
    "import pandas as pd\n",
    "import matplotlib.pylab as plt\n",
    "import numpy as np"
   ]
  },
  {
   "cell_type": "markdown",
   "id": "9fc7b1ff-5182-4514-aa87-195df4518a3d",
   "metadata": {
    "jp-MarkdownHeadingCollapsed": true,
    "tags": []
   },
   "source": [
    "### Leitura do csv"
   ]
  },
  {
   "cell_type": "code",
   "execution_count": 2,
   "id": "5f07c598-cc21-4586-9725-7128fd04bb1a",
   "metadata": {},
   "outputs": [],
   "source": [
    "df = pd.read_csv('C:\\\\Users\\\\Maleto\\\\Documents\\\\PROJETO_DATATRAN_2021\\\\datatran2021.csv', sep = ';', encoding = 'latin-1')"
   ]
  },
  {
   "cell_type": "markdown",
   "id": "43fc1912-d340-4b76-9c53-ff4f033b5822",
   "metadata": {
    "jp-MarkdownHeadingCollapsed": true,
    "tags": []
   },
   "source": [
    "### Visualização dos dados"
   ]
  },
  {
   "cell_type": "code",
   "execution_count": 3,
   "id": "4c96950a-16db-4bf9-8a1a-0a414a4c369f",
   "metadata": {},
   "outputs": [
    {
     "data": {
      "text/html": [
       "<div>\n",
       "<style scoped>\n",
       "    .dataframe tbody tr th:only-of-type {\n",
       "        vertical-align: middle;\n",
       "    }\n",
       "\n",
       "    .dataframe tbody tr th {\n",
       "        vertical-align: top;\n",
       "    }\n",
       "\n",
       "    .dataframe thead th {\n",
       "        text-align: right;\n",
       "    }\n",
       "</style>\n",
       "<table border=\"1\" class=\"dataframe\">\n",
       "  <thead>\n",
       "    <tr style=\"text-align: right;\">\n",
       "      <th></th>\n",
       "      <th>id</th>\n",
       "      <th>data_inversa</th>\n",
       "      <th>dia_semana</th>\n",
       "      <th>horario</th>\n",
       "      <th>uf</th>\n",
       "      <th>br</th>\n",
       "      <th>km</th>\n",
       "      <th>municipio</th>\n",
       "      <th>causa_acidente</th>\n",
       "      <th>tipo_acidente</th>\n",
       "      <th>...</th>\n",
       "      <th>feridos_graves</th>\n",
       "      <th>ilesos</th>\n",
       "      <th>ignorados</th>\n",
       "      <th>feridos</th>\n",
       "      <th>veiculos</th>\n",
       "      <th>latitude</th>\n",
       "      <th>longitude</th>\n",
       "      <th>regional</th>\n",
       "      <th>delegacia</th>\n",
       "      <th>uop</th>\n",
       "    </tr>\n",
       "  </thead>\n",
       "  <tbody>\n",
       "    <tr>\n",
       "      <th>0</th>\n",
       "      <td>331730.0</td>\n",
       "      <td>2021-01-01</td>\n",
       "      <td>sexta-feira</td>\n",
       "      <td>05:30:00</td>\n",
       "      <td>SP</td>\n",
       "      <td>116.0</td>\n",
       "      <td>453</td>\n",
       "      <td>REGISTRO</td>\n",
       "      <td>Reação tardia ou ineficiente do condutor</td>\n",
       "      <td>Tombamento</td>\n",
       "      <td>...</td>\n",
       "      <td>0</td>\n",
       "      <td>0</td>\n",
       "      <td>0</td>\n",
       "      <td>1</td>\n",
       "      <td>1</td>\n",
       "      <td>-24,56168114</td>\n",
       "      <td>-47,86752174</td>\n",
       "      <td>SPRF-SP</td>\n",
       "      <td>DEL05-SP</td>\n",
       "      <td>UOP01-DEL05-SP</td>\n",
       "    </tr>\n",
       "    <tr>\n",
       "      <th>1</th>\n",
       "      <td>331804.0</td>\n",
       "      <td>2021-01-01</td>\n",
       "      <td>sexta-feira</td>\n",
       "      <td>08:05:00</td>\n",
       "      <td>AM</td>\n",
       "      <td>174.0</td>\n",
       "      <td>937</td>\n",
       "      <td>MANAUS</td>\n",
       "      <td>Reação tardia ou ineficiente do condutor</td>\n",
       "      <td>Colisão traseira</td>\n",
       "      <td>...</td>\n",
       "      <td>0</td>\n",
       "      <td>5</td>\n",
       "      <td>0</td>\n",
       "      <td>1</td>\n",
       "      <td>4</td>\n",
       "      <td>-2,508068</td>\n",
       "      <td>-60,036434</td>\n",
       "      <td>SPRF-AM</td>\n",
       "      <td>DEL01-AM</td>\n",
       "      <td>UOP01-DEL01-AM</td>\n",
       "    </tr>\n",
       "    <tr>\n",
       "      <th>2</th>\n",
       "      <td>331815.0</td>\n",
       "      <td>2021-01-01</td>\n",
       "      <td>sexta-feira</td>\n",
       "      <td>10:10:00</td>\n",
       "      <td>CE</td>\n",
       "      <td>222.0</td>\n",
       "      <td>128,5</td>\n",
       "      <td>ITAPAJE</td>\n",
       "      <td>Velocidade Incompatível</td>\n",
       "      <td>Tombamento</td>\n",
       "      <td>...</td>\n",
       "      <td>0</td>\n",
       "      <td>0</td>\n",
       "      <td>1</td>\n",
       "      <td>2</td>\n",
       "      <td>2</td>\n",
       "      <td>-3,707626</td>\n",
       "      <td>-39,623509</td>\n",
       "      <td>SPRF-CE</td>\n",
       "      <td>DEL04-CE</td>\n",
       "      <td>UOP03-DEL04-CE</td>\n",
       "    </tr>\n",
       "    <tr>\n",
       "      <th>3</th>\n",
       "      <td>331823.0</td>\n",
       "      <td>2021-01-01</td>\n",
       "      <td>sexta-feira</td>\n",
       "      <td>12:30:00</td>\n",
       "      <td>RJ</td>\n",
       "      <td>493.0</td>\n",
       "      <td>18</td>\n",
       "      <td>MAGE</td>\n",
       "      <td>Ingestão de álcool e/ou substâncias psicoativa...</td>\n",
       "      <td>Colisão lateral</td>\n",
       "      <td>...</td>\n",
       "      <td>0</td>\n",
       "      <td>1</td>\n",
       "      <td>0</td>\n",
       "      <td>1</td>\n",
       "      <td>2</td>\n",
       "      <td>-22,6687122</td>\n",
       "      <td>-43,01862696</td>\n",
       "      <td>SPRF-RJ</td>\n",
       "      <td>DEL02-RJ</td>\n",
       "      <td>UOP04-DEL02-RJ</td>\n",
       "    </tr>\n",
       "    <tr>\n",
       "      <th>4</th>\n",
       "      <td>331843.0</td>\n",
       "      <td>2021-01-01</td>\n",
       "      <td>sexta-feira</td>\n",
       "      <td>14:40:00</td>\n",
       "      <td>RJ</td>\n",
       "      <td>393.0</td>\n",
       "      <td>252</td>\n",
       "      <td>BARRA DO PIRAI</td>\n",
       "      <td>Condutor Dormindo</td>\n",
       "      <td>Colisão frontal</td>\n",
       "      <td>...</td>\n",
       "      <td>1</td>\n",
       "      <td>1</td>\n",
       "      <td>0</td>\n",
       "      <td>2</td>\n",
       "      <td>2</td>\n",
       "      <td>-22,43422023</td>\n",
       "      <td>-43,77561487</td>\n",
       "      <td>SPRF-RJ</td>\n",
       "      <td>DEL05-RJ</td>\n",
       "      <td>UOP02-DEL05-RJ</td>\n",
       "    </tr>\n",
       "  </tbody>\n",
       "</table>\n",
       "<p>5 rows × 30 columns</p>\n",
       "</div>"
      ],
      "text/plain": [
       "         id data_inversa   dia_semana   horario  uf     br     km  \\\n",
       "0  331730.0   2021-01-01  sexta-feira  05:30:00  SP  116.0    453   \n",
       "1  331804.0   2021-01-01  sexta-feira  08:05:00  AM  174.0    937   \n",
       "2  331815.0   2021-01-01  sexta-feira  10:10:00  CE  222.0  128,5   \n",
       "3  331823.0   2021-01-01  sexta-feira  12:30:00  RJ  493.0     18   \n",
       "4  331843.0   2021-01-01  sexta-feira  14:40:00  RJ  393.0    252   \n",
       "\n",
       "        municipio                                     causa_acidente  \\\n",
       "0        REGISTRO           Reação tardia ou ineficiente do condutor   \n",
       "1          MANAUS           Reação tardia ou ineficiente do condutor   \n",
       "2         ITAPAJE                            Velocidade Incompatível   \n",
       "3            MAGE  Ingestão de álcool e/ou substâncias psicoativa...   \n",
       "4  BARRA DO PIRAI                                  Condutor Dormindo   \n",
       "\n",
       "      tipo_acidente  ... feridos_graves ilesos ignorados feridos veiculos  \\\n",
       "0        Tombamento  ...              0      0         0       1        1   \n",
       "1  Colisão traseira  ...              0      5         0       1        4   \n",
       "2        Tombamento  ...              0      0         1       2        2   \n",
       "3   Colisão lateral  ...              0      1         0       1        2   \n",
       "4   Colisão frontal  ...              1      1         0       2        2   \n",
       "\n",
       "       latitude     longitude  regional  delegacia             uop  \n",
       "0  -24,56168114  -47,86752174   SPRF-SP   DEL05-SP  UOP01-DEL05-SP  \n",
       "1     -2,508068    -60,036434   SPRF-AM   DEL01-AM  UOP01-DEL01-AM  \n",
       "2     -3,707626    -39,623509   SPRF-CE   DEL04-CE  UOP03-DEL04-CE  \n",
       "3   -22,6687122  -43,01862696   SPRF-RJ   DEL02-RJ  UOP04-DEL02-RJ  \n",
       "4  -22,43422023  -43,77561487   SPRF-RJ   DEL05-RJ  UOP02-DEL05-RJ  \n",
       "\n",
       "[5 rows x 30 columns]"
      ]
     },
     "execution_count": 3,
     "metadata": {},
     "output_type": "execute_result"
    }
   ],
   "source": [
    "df.head()"
   ]
  },
  {
   "cell_type": "code",
   "execution_count": 4,
   "id": "ae1d5e20-3f55-4571-b522-6ebe6464ec3e",
   "metadata": {},
   "outputs": [
    {
     "data": {
      "text/plain": [
       "(64539, 30)"
      ]
     },
     "execution_count": 4,
     "metadata": {},
     "output_type": "execute_result"
    }
   ],
   "source": [
    "df.shape"
   ]
  },
  {
   "cell_type": "code",
   "execution_count": 5,
   "id": "a6b0af88-a33f-4b71-9935-95cec8f5a2c6",
   "metadata": {},
   "outputs": [
    {
     "data": {
      "text/html": [
       "<div>\n",
       "<style scoped>\n",
       "    .dataframe tbody tr th:only-of-type {\n",
       "        vertical-align: middle;\n",
       "    }\n",
       "\n",
       "    .dataframe tbody tr th {\n",
       "        vertical-align: top;\n",
       "    }\n",
       "\n",
       "    .dataframe thead th {\n",
       "        text-align: right;\n",
       "    }\n",
       "</style>\n",
       "<table border=\"1\" class=\"dataframe\">\n",
       "  <thead>\n",
       "    <tr style=\"text-align: right;\">\n",
       "      <th></th>\n",
       "      <th>id</th>\n",
       "      <th>br</th>\n",
       "      <th>pessoas</th>\n",
       "      <th>mortos</th>\n",
       "      <th>feridos_leves</th>\n",
       "      <th>feridos_graves</th>\n",
       "      <th>ilesos</th>\n",
       "      <th>ignorados</th>\n",
       "      <th>feridos</th>\n",
       "      <th>veiculos</th>\n",
       "    </tr>\n",
       "  </thead>\n",
       "  <tbody>\n",
       "    <tr>\n",
       "      <th>count</th>\n",
       "      <td>64539.000000</td>\n",
       "      <td>64372.000000</td>\n",
       "      <td>64539.000000</td>\n",
       "      <td>64539.000000</td>\n",
       "      <td>64539.000000</td>\n",
       "      <td>64539.000000</td>\n",
       "      <td>64539.000000</td>\n",
       "      <td>64539.000000</td>\n",
       "      <td>64539.000000</td>\n",
       "      <td>64539.000000</td>\n",
       "    </tr>\n",
       "    <tr>\n",
       "      <th>mean</th>\n",
       "      <td>369745.487194</td>\n",
       "      <td>210.660163</td>\n",
       "      <td>2.338508</td>\n",
       "      <td>0.083608</td>\n",
       "      <td>0.839508</td>\n",
       "      <td>0.273710</td>\n",
       "      <td>0.981639</td>\n",
       "      <td>0.160043</td>\n",
       "      <td>1.113218</td>\n",
       "      <td>1.653791</td>\n",
       "    </tr>\n",
       "    <tr>\n",
       "      <th>std</th>\n",
       "      <td>21954.249547</td>\n",
       "      <td>130.673217</td>\n",
       "      <td>1.866810</td>\n",
       "      <td>0.340734</td>\n",
       "      <td>1.029122</td>\n",
       "      <td>0.612703</td>\n",
       "      <td>1.440071</td>\n",
       "      <td>0.473669</td>\n",
       "      <td>1.151550</td>\n",
       "      <td>0.721653</td>\n",
       "    </tr>\n",
       "    <tr>\n",
       "      <th>min</th>\n",
       "      <td>331693.000000</td>\n",
       "      <td>10.000000</td>\n",
       "      <td>1.000000</td>\n",
       "      <td>0.000000</td>\n",
       "      <td>0.000000</td>\n",
       "      <td>0.000000</td>\n",
       "      <td>0.000000</td>\n",
       "      <td>0.000000</td>\n",
       "      <td>0.000000</td>\n",
       "      <td>1.000000</td>\n",
       "    </tr>\n",
       "    <tr>\n",
       "      <th>25%</th>\n",
       "      <td>351095.500000</td>\n",
       "      <td>101.000000</td>\n",
       "      <td>1.000000</td>\n",
       "      <td>0.000000</td>\n",
       "      <td>0.000000</td>\n",
       "      <td>0.000000</td>\n",
       "      <td>0.000000</td>\n",
       "      <td>0.000000</td>\n",
       "      <td>1.000000</td>\n",
       "      <td>1.000000</td>\n",
       "    </tr>\n",
       "    <tr>\n",
       "      <th>50%</th>\n",
       "      <td>369790.000000</td>\n",
       "      <td>158.000000</td>\n",
       "      <td>2.000000</td>\n",
       "      <td>0.000000</td>\n",
       "      <td>1.000000</td>\n",
       "      <td>0.000000</td>\n",
       "      <td>1.000000</td>\n",
       "      <td>0.000000</td>\n",
       "      <td>1.000000</td>\n",
       "      <td>2.000000</td>\n",
       "    </tr>\n",
       "    <tr>\n",
       "      <th>75%</th>\n",
       "      <td>388100.500000</td>\n",
       "      <td>324.000000</td>\n",
       "      <td>3.000000</td>\n",
       "      <td>0.000000</td>\n",
       "      <td>1.000000</td>\n",
       "      <td>0.000000</td>\n",
       "      <td>1.000000</td>\n",
       "      <td>0.000000</td>\n",
       "      <td>1.000000</td>\n",
       "      <td>2.000000</td>\n",
       "    </tr>\n",
       "    <tr>\n",
       "      <th>max</th>\n",
       "      <td>465993.000000</td>\n",
       "      <td>495.000000</td>\n",
       "      <td>70.000000</td>\n",
       "      <td>19.000000</td>\n",
       "      <td>44.000000</td>\n",
       "      <td>26.000000</td>\n",
       "      <td>53.000000</td>\n",
       "      <td>42.000000</td>\n",
       "      <td>49.000000</td>\n",
       "      <td>14.000000</td>\n",
       "    </tr>\n",
       "  </tbody>\n",
       "</table>\n",
       "</div>"
      ],
      "text/plain": [
       "                  id            br       pessoas        mortos  feridos_leves  \\\n",
       "count   64539.000000  64372.000000  64539.000000  64539.000000   64539.000000   \n",
       "mean   369745.487194    210.660163      2.338508      0.083608       0.839508   \n",
       "std     21954.249547    130.673217      1.866810      0.340734       1.029122   \n",
       "min    331693.000000     10.000000      1.000000      0.000000       0.000000   \n",
       "25%    351095.500000    101.000000      1.000000      0.000000       0.000000   \n",
       "50%    369790.000000    158.000000      2.000000      0.000000       1.000000   \n",
       "75%    388100.500000    324.000000      3.000000      0.000000       1.000000   \n",
       "max    465993.000000    495.000000     70.000000     19.000000      44.000000   \n",
       "\n",
       "       feridos_graves        ilesos     ignorados       feridos      veiculos  \n",
       "count    64539.000000  64539.000000  64539.000000  64539.000000  64539.000000  \n",
       "mean         0.273710      0.981639      0.160043      1.113218      1.653791  \n",
       "std          0.612703      1.440071      0.473669      1.151550      0.721653  \n",
       "min          0.000000      0.000000      0.000000      0.000000      1.000000  \n",
       "25%          0.000000      0.000000      0.000000      1.000000      1.000000  \n",
       "50%          0.000000      1.000000      0.000000      1.000000      2.000000  \n",
       "75%          0.000000      1.000000      0.000000      1.000000      2.000000  \n",
       "max         26.000000     53.000000     42.000000     49.000000     14.000000  "
      ]
     },
     "execution_count": 5,
     "metadata": {},
     "output_type": "execute_result"
    }
   ],
   "source": [
    "df.describe()"
   ]
  },
  {
   "cell_type": "code",
   "execution_count": 6,
   "id": "77e6d705-719b-4df2-a0ba-25948f07c009",
   "metadata": {},
   "outputs": [
    {
     "name": "stdout",
     "output_type": "stream",
     "text": [
      "<class 'pandas.core.frame.DataFrame'>\n",
      "RangeIndex: 64539 entries, 0 to 64538\n",
      "Data columns (total 30 columns):\n",
      " #   Column                  Non-Null Count  Dtype  \n",
      "---  ------                  --------------  -----  \n",
      " 0   id                      64539 non-null  float64\n",
      " 1   data_inversa            64539 non-null  object \n",
      " 2   dia_semana              64539 non-null  object \n",
      " 3   horario                 64539 non-null  object \n",
      " 4   uf                      64539 non-null  object \n",
      " 5   br                      64372 non-null  float64\n",
      " 6   km                      64372 non-null  object \n",
      " 7   municipio               64539 non-null  object \n",
      " 8   causa_acidente          64539 non-null  object \n",
      " 9   tipo_acidente           64539 non-null  object \n",
      " 10  classificacao_acidente  64539 non-null  object \n",
      " 11  fase_dia                64539 non-null  object \n",
      " 12  sentido_via             64539 non-null  object \n",
      " 13  condicao_metereologica  64539 non-null  object \n",
      " 14  tipo_pista              64539 non-null  object \n",
      " 15  tracado_via             64539 non-null  object \n",
      " 16  uso_solo                64539 non-null  object \n",
      " 17  pessoas                 64539 non-null  int64  \n",
      " 18  mortos                  64539 non-null  int64  \n",
      " 19  feridos_leves           64539 non-null  int64  \n",
      " 20  feridos_graves          64539 non-null  int64  \n",
      " 21  ilesos                  64539 non-null  int64  \n",
      " 22  ignorados               64539 non-null  int64  \n",
      " 23  feridos                 64539 non-null  int64  \n",
      " 24  veiculos                64539 non-null  int64  \n",
      " 25  latitude                64539 non-null  object \n",
      " 26  longitude               64539 non-null  object \n",
      " 27  regional                64539 non-null  object \n",
      " 28  delegacia               64521 non-null  object \n",
      " 29  uop                     64407 non-null  object \n",
      "dtypes: float64(2), int64(8), object(20)\n",
      "memory usage: 14.8+ MB\n"
     ]
    }
   ],
   "source": [
    "df.info()"
   ]
  },
  {
   "cell_type": "code",
   "execution_count": 7,
   "id": "98b1763c-9ab3-4e69-8d32-94e04c468bb2",
   "metadata": {},
   "outputs": [
    {
     "data": {
      "text/plain": [
       "id                          0\n",
       "data_inversa                0\n",
       "dia_semana                  0\n",
       "horario                     0\n",
       "uf                          0\n",
       "br                        167\n",
       "km                        167\n",
       "municipio                   0\n",
       "causa_acidente              0\n",
       "tipo_acidente               0\n",
       "classificacao_acidente      0\n",
       "fase_dia                    0\n",
       "sentido_via                 0\n",
       "condicao_metereologica      0\n",
       "tipo_pista                  0\n",
       "tracado_via                 0\n",
       "uso_solo                    0\n",
       "pessoas                     0\n",
       "mortos                      0\n",
       "feridos_leves               0\n",
       "feridos_graves              0\n",
       "ilesos                      0\n",
       "ignorados                   0\n",
       "feridos                     0\n",
       "veiculos                    0\n",
       "latitude                    0\n",
       "longitude                   0\n",
       "regional                    0\n",
       "delegacia                  18\n",
       "uop                       132\n",
       "dtype: int64"
      ]
     },
     "execution_count": 7,
     "metadata": {},
     "output_type": "execute_result"
    }
   ],
   "source": [
    "df.isnull().sum()"
   ]
  },
  {
   "cell_type": "markdown",
   "id": "caeec0bb-3db6-42d7-b9d5-7477c145c20c",
   "metadata": {
    "jp-MarkdownHeadingCollapsed": true,
    "tags": []
   },
   "source": [
    "### Limpeza e organização dos dados"
   ]
  },
  {
   "cell_type": "code",
   "execution_count": 8,
   "id": "e706348d-217b-4711-960f-bb9f7aa468f6",
   "metadata": {},
   "outputs": [
    {
     "data": {
      "text/plain": [
       "id                        0\n",
       "data_inversa              0\n",
       "dia_semana                0\n",
       "horario                   0\n",
       "uf                        0\n",
       "br                        0\n",
       "km                        0\n",
       "municipio                 0\n",
       "causa_acidente            0\n",
       "tipo_acidente             0\n",
       "classificacao_acidente    0\n",
       "fase_dia                  0\n",
       "sentido_via               0\n",
       "condicao_metereologica    0\n",
       "tipo_pista                0\n",
       "tracado_via               0\n",
       "uso_solo                  0\n",
       "pessoas                   0\n",
       "mortos                    0\n",
       "feridos_leves             0\n",
       "feridos_graves            0\n",
       "ilesos                    0\n",
       "ignorados                 0\n",
       "feridos                   0\n",
       "veiculos                  0\n",
       "latitude                  0\n",
       "longitude                 0\n",
       "regional                  0\n",
       "delegacia                 0\n",
       "uop                       0\n",
       "dtype: int64"
      ]
     },
     "execution_count": 8,
     "metadata": {},
     "output_type": "execute_result"
    }
   ],
   "source": [
    "new_df = df.dropna()\n",
    "new_df.isnull().sum()"
   ]
  },
  {
   "cell_type": "code",
   "execution_count": 9,
   "id": "747c9f4b-d71b-432f-8eef-feecb99edfc6",
   "metadata": {},
   "outputs": [
    {
     "data": {
      "text/plain": [
       "(64276, 30)"
      ]
     },
     "execution_count": 9,
     "metadata": {},
     "output_type": "execute_result"
    }
   ],
   "source": [
    "new_df.shape"
   ]
  },
  {
   "cell_type": "code",
   "execution_count": 10,
   "id": "18324374-c890-4569-9a73-da2104da2456",
   "metadata": {},
   "outputs": [
    {
     "data": {
      "text/plain": [
       "263"
      ]
     },
     "execution_count": 10,
     "metadata": {},
     "output_type": "execute_result"
    }
   ],
   "source": [
    "#Número de linhas apagadas do dataframe\n",
    "df.shape[0] - new_df.shape[0]"
   ]
  },
  {
   "cell_type": "code",
   "execution_count": 11,
   "id": "fa94c198-e50e-4772-b9e5-c115125a8d5f",
   "metadata": {},
   "outputs": [
    {
     "name": "stderr",
     "output_type": "stream",
     "text": [
      "C:\\Users\\Maleto\\AppData\\Local\\Temp\\ipykernel_17052\\809857824.py:1: SettingWithCopyWarning: \n",
      "A value is trying to be set on a copy of a slice from a DataFrame.\n",
      "Try using .loc[row_indexer,col_indexer] = value instead\n",
      "\n",
      "See the caveats in the documentation: https://pandas.pydata.org/pandas-docs/stable/user_guide/indexing.html#returning-a-view-versus-a-copy\n",
      "  new_df['km'] = new_df['km'].replace({',': '.'}, regex = True)\n"
     ]
    }
   ],
   "source": [
    "new_df['km'] = new_df['km'].replace({',': '.'}, regex = True)"
   ]
  },
  {
   "cell_type": "code",
   "execution_count": 12,
   "id": "55a4ee1c-aefb-44c1-9786-c03bca0f5c71",
   "metadata": {},
   "outputs": [
    {
     "data": {
      "text/plain": [
       "0          453\n",
       "1          937\n",
       "2        128.5\n",
       "3           18\n",
       "4          252\n",
       "         ...  \n",
       "64534    451.3\n",
       "64535    706.4\n",
       "64536    169.5\n",
       "64537      318\n",
       "64538      970\n",
       "Name: km, Length: 64276, dtype: object"
      ]
     },
     "execution_count": 12,
     "metadata": {},
     "output_type": "execute_result"
    }
   ],
   "source": [
    "new_df['km']"
   ]
  },
  {
   "cell_type": "code",
   "execution_count": 13,
   "id": "26234f95-0bfe-41f0-a858-ddb9a04e9681",
   "metadata": {},
   "outputs": [
    {
     "name": "stderr",
     "output_type": "stream",
     "text": [
      "C:\\Users\\Maleto\\AppData\\Local\\Temp\\ipykernel_17052\\70403768.py:1: SettingWithCopyWarning: \n",
      "A value is trying to be set on a copy of a slice from a DataFrame.\n",
      "Try using .loc[row_indexer,col_indexer] = value instead\n",
      "\n",
      "See the caveats in the documentation: https://pandas.pydata.org/pandas-docs/stable/user_guide/indexing.html#returning-a-view-versus-a-copy\n",
      "  new_df.km = new_df.km.astype(float)\n"
     ]
    }
   ],
   "source": [
    "new_df.km = new_df.km.astype(float)"
   ]
  },
  {
   "cell_type": "code",
   "execution_count": 14,
   "id": "6bc7e454-f250-40b5-a7b1-ecd015575bf5",
   "metadata": {},
   "outputs": [
    {
     "data": {
      "text/plain": [
       "0        453.0\n",
       "1        937.0\n",
       "2        128.5\n",
       "3         18.0\n",
       "4        252.0\n",
       "         ...  \n",
       "64534    451.3\n",
       "64535    706.4\n",
       "64536    169.5\n",
       "64537    318.0\n",
       "64538    970.0\n",
       "Name: km, Length: 64276, dtype: float64"
      ]
     },
     "execution_count": 14,
     "metadata": {},
     "output_type": "execute_result"
    }
   ],
   "source": [
    "new_df.km"
   ]
  },
  {
   "cell_type": "markdown",
   "id": "a20668ec-c5ed-4117-a25a-4885b4e82fb7",
   "metadata": {
    "jp-MarkdownHeadingCollapsed": true,
    "tags": []
   },
   "source": [
    "### Selecionando colunas para analise"
   ]
  },
  {
   "cell_type": "code",
   "execution_count": 15,
   "id": "15fb8544-e4f6-4760-a5da-647b7d4fe720",
   "metadata": {},
   "outputs": [
    {
     "data": {
      "text/html": [
       "<div>\n",
       "<style scoped>\n",
       "    .dataframe tbody tr th:only-of-type {\n",
       "        vertical-align: middle;\n",
       "    }\n",
       "\n",
       "    .dataframe tbody tr th {\n",
       "        vertical-align: top;\n",
       "    }\n",
       "\n",
       "    .dataframe thead th {\n",
       "        text-align: right;\n",
       "    }\n",
       "</style>\n",
       "<table border=\"1\" class=\"dataframe\">\n",
       "  <thead>\n",
       "    <tr style=\"text-align: right;\">\n",
       "      <th></th>\n",
       "      <th>id</th>\n",
       "      <th>data_inversa</th>\n",
       "      <th>dia_semana</th>\n",
       "      <th>horario</th>\n",
       "      <th>uf</th>\n",
       "      <th>br</th>\n",
       "      <th>km</th>\n",
       "      <th>municipio</th>\n",
       "      <th>causa_acidente</th>\n",
       "      <th>tipo_acidente</th>\n",
       "      <th>...</th>\n",
       "      <th>feridos_graves</th>\n",
       "      <th>ilesos</th>\n",
       "      <th>ignorados</th>\n",
       "      <th>feridos</th>\n",
       "      <th>veiculos</th>\n",
       "      <th>latitude</th>\n",
       "      <th>longitude</th>\n",
       "      <th>regional</th>\n",
       "      <th>delegacia</th>\n",
       "      <th>uop</th>\n",
       "    </tr>\n",
       "  </thead>\n",
       "  <tbody>\n",
       "    <tr>\n",
       "      <th>0</th>\n",
       "      <td>331730.0</td>\n",
       "      <td>2021-01-01</td>\n",
       "      <td>sexta-feira</td>\n",
       "      <td>05:30:00</td>\n",
       "      <td>SP</td>\n",
       "      <td>116.0</td>\n",
       "      <td>453.0</td>\n",
       "      <td>REGISTRO</td>\n",
       "      <td>Reação tardia ou ineficiente do condutor</td>\n",
       "      <td>Tombamento</td>\n",
       "      <td>...</td>\n",
       "      <td>0</td>\n",
       "      <td>0</td>\n",
       "      <td>0</td>\n",
       "      <td>1</td>\n",
       "      <td>1</td>\n",
       "      <td>-24,56168114</td>\n",
       "      <td>-47,86752174</td>\n",
       "      <td>SPRF-SP</td>\n",
       "      <td>DEL05-SP</td>\n",
       "      <td>UOP01-DEL05-SP</td>\n",
       "    </tr>\n",
       "    <tr>\n",
       "      <th>1</th>\n",
       "      <td>331804.0</td>\n",
       "      <td>2021-01-01</td>\n",
       "      <td>sexta-feira</td>\n",
       "      <td>08:05:00</td>\n",
       "      <td>AM</td>\n",
       "      <td>174.0</td>\n",
       "      <td>937.0</td>\n",
       "      <td>MANAUS</td>\n",
       "      <td>Reação tardia ou ineficiente do condutor</td>\n",
       "      <td>Colisão traseira</td>\n",
       "      <td>...</td>\n",
       "      <td>0</td>\n",
       "      <td>5</td>\n",
       "      <td>0</td>\n",
       "      <td>1</td>\n",
       "      <td>4</td>\n",
       "      <td>-2,508068</td>\n",
       "      <td>-60,036434</td>\n",
       "      <td>SPRF-AM</td>\n",
       "      <td>DEL01-AM</td>\n",
       "      <td>UOP01-DEL01-AM</td>\n",
       "    </tr>\n",
       "    <tr>\n",
       "      <th>2</th>\n",
       "      <td>331815.0</td>\n",
       "      <td>2021-01-01</td>\n",
       "      <td>sexta-feira</td>\n",
       "      <td>10:10:00</td>\n",
       "      <td>CE</td>\n",
       "      <td>222.0</td>\n",
       "      <td>128.5</td>\n",
       "      <td>ITAPAJE</td>\n",
       "      <td>Velocidade Incompatível</td>\n",
       "      <td>Tombamento</td>\n",
       "      <td>...</td>\n",
       "      <td>0</td>\n",
       "      <td>0</td>\n",
       "      <td>1</td>\n",
       "      <td>2</td>\n",
       "      <td>2</td>\n",
       "      <td>-3,707626</td>\n",
       "      <td>-39,623509</td>\n",
       "      <td>SPRF-CE</td>\n",
       "      <td>DEL04-CE</td>\n",
       "      <td>UOP03-DEL04-CE</td>\n",
       "    </tr>\n",
       "    <tr>\n",
       "      <th>3</th>\n",
       "      <td>331823.0</td>\n",
       "      <td>2021-01-01</td>\n",
       "      <td>sexta-feira</td>\n",
       "      <td>12:30:00</td>\n",
       "      <td>RJ</td>\n",
       "      <td>493.0</td>\n",
       "      <td>18.0</td>\n",
       "      <td>MAGE</td>\n",
       "      <td>Ingestão de álcool e/ou substâncias psicoativa...</td>\n",
       "      <td>Colisão lateral</td>\n",
       "      <td>...</td>\n",
       "      <td>0</td>\n",
       "      <td>1</td>\n",
       "      <td>0</td>\n",
       "      <td>1</td>\n",
       "      <td>2</td>\n",
       "      <td>-22,6687122</td>\n",
       "      <td>-43,01862696</td>\n",
       "      <td>SPRF-RJ</td>\n",
       "      <td>DEL02-RJ</td>\n",
       "      <td>UOP04-DEL02-RJ</td>\n",
       "    </tr>\n",
       "    <tr>\n",
       "      <th>4</th>\n",
       "      <td>331843.0</td>\n",
       "      <td>2021-01-01</td>\n",
       "      <td>sexta-feira</td>\n",
       "      <td>14:40:00</td>\n",
       "      <td>RJ</td>\n",
       "      <td>393.0</td>\n",
       "      <td>252.0</td>\n",
       "      <td>BARRA DO PIRAI</td>\n",
       "      <td>Condutor Dormindo</td>\n",
       "      <td>Colisão frontal</td>\n",
       "      <td>...</td>\n",
       "      <td>1</td>\n",
       "      <td>1</td>\n",
       "      <td>0</td>\n",
       "      <td>2</td>\n",
       "      <td>2</td>\n",
       "      <td>-22,43422023</td>\n",
       "      <td>-43,77561487</td>\n",
       "      <td>SPRF-RJ</td>\n",
       "      <td>DEL05-RJ</td>\n",
       "      <td>UOP02-DEL05-RJ</td>\n",
       "    </tr>\n",
       "  </tbody>\n",
       "</table>\n",
       "<p>5 rows × 30 columns</p>\n",
       "</div>"
      ],
      "text/plain": [
       "         id data_inversa   dia_semana   horario  uf     br     km  \\\n",
       "0  331730.0   2021-01-01  sexta-feira  05:30:00  SP  116.0  453.0   \n",
       "1  331804.0   2021-01-01  sexta-feira  08:05:00  AM  174.0  937.0   \n",
       "2  331815.0   2021-01-01  sexta-feira  10:10:00  CE  222.0  128.5   \n",
       "3  331823.0   2021-01-01  sexta-feira  12:30:00  RJ  493.0   18.0   \n",
       "4  331843.0   2021-01-01  sexta-feira  14:40:00  RJ  393.0  252.0   \n",
       "\n",
       "        municipio                                     causa_acidente  \\\n",
       "0        REGISTRO           Reação tardia ou ineficiente do condutor   \n",
       "1          MANAUS           Reação tardia ou ineficiente do condutor   \n",
       "2         ITAPAJE                            Velocidade Incompatível   \n",
       "3            MAGE  Ingestão de álcool e/ou substâncias psicoativa...   \n",
       "4  BARRA DO PIRAI                                  Condutor Dormindo   \n",
       "\n",
       "      tipo_acidente  ... feridos_graves ilesos ignorados feridos veiculos  \\\n",
       "0        Tombamento  ...              0      0         0       1        1   \n",
       "1  Colisão traseira  ...              0      5         0       1        4   \n",
       "2        Tombamento  ...              0      0         1       2        2   \n",
       "3   Colisão lateral  ...              0      1         0       1        2   \n",
       "4   Colisão frontal  ...              1      1         0       2        2   \n",
       "\n",
       "       latitude     longitude  regional  delegacia             uop  \n",
       "0  -24,56168114  -47,86752174   SPRF-SP   DEL05-SP  UOP01-DEL05-SP  \n",
       "1     -2,508068    -60,036434   SPRF-AM   DEL01-AM  UOP01-DEL01-AM  \n",
       "2     -3,707626    -39,623509   SPRF-CE   DEL04-CE  UOP03-DEL04-CE  \n",
       "3   -22,6687122  -43,01862696   SPRF-RJ   DEL02-RJ  UOP04-DEL02-RJ  \n",
       "4  -22,43422023  -43,77561487   SPRF-RJ   DEL05-RJ  UOP02-DEL05-RJ  \n",
       "\n",
       "[5 rows x 30 columns]"
      ]
     },
     "execution_count": 15,
     "metadata": {},
     "output_type": "execute_result"
    }
   ],
   "source": [
    "new_df.head()"
   ]
  },
  {
   "cell_type": "code",
   "execution_count": 16,
   "id": "68817b7a-daa0-412d-80cd-c4240c1acd0b",
   "metadata": {},
   "outputs": [
    {
     "data": {
      "text/plain": [
       "Index(['id', 'data_inversa', 'dia_semana', 'horario', 'uf', 'br', 'km',\n",
       "       'municipio', 'causa_acidente', 'tipo_acidente',\n",
       "       'classificacao_acidente', 'fase_dia', 'sentido_via',\n",
       "       'condicao_metereologica', 'tipo_pista', 'tracado_via', 'uso_solo',\n",
       "       'pessoas', 'mortos', 'feridos_leves', 'feridos_graves', 'ilesos',\n",
       "       'ignorados', 'feridos', 'veiculos', 'latitude', 'longitude', 'regional',\n",
       "       'delegacia', 'uop'],\n",
       "      dtype='object')"
      ]
     },
     "execution_count": 16,
     "metadata": {},
     "output_type": "execute_result"
    }
   ],
   "source": [
    "new_df.columns"
   ]
  },
  {
   "cell_type": "code",
   "execution_count": 17,
   "id": "3c81fbe9-ffe0-4dc1-b409-5ef1398fc94f",
   "metadata": {},
   "outputs": [
    {
     "data": {
      "text/html": [
       "<div>\n",
       "<style scoped>\n",
       "    .dataframe tbody tr th:only-of-type {\n",
       "        vertical-align: middle;\n",
       "    }\n",
       "\n",
       "    .dataframe tbody tr th {\n",
       "        vertical-align: top;\n",
       "    }\n",
       "\n",
       "    .dataframe thead th {\n",
       "        text-align: right;\n",
       "    }\n",
       "</style>\n",
       "<table border=\"1\" class=\"dataframe\">\n",
       "  <thead>\n",
       "    <tr style=\"text-align: right;\">\n",
       "      <th></th>\n",
       "      <th>data_inversa</th>\n",
       "      <th>dia_semana</th>\n",
       "      <th>uf</th>\n",
       "      <th>br</th>\n",
       "      <th>km</th>\n",
       "      <th>municipio</th>\n",
       "      <th>causa_acidente</th>\n",
       "      <th>tipo_acidente</th>\n",
       "      <th>classificacao_acidente</th>\n",
       "      <th>fase_dia</th>\n",
       "      <th>...</th>\n",
       "      <th>tipo_pista</th>\n",
       "      <th>tracado_via</th>\n",
       "      <th>pessoas</th>\n",
       "      <th>mortos</th>\n",
       "      <th>feridos_leves</th>\n",
       "      <th>feridos_graves</th>\n",
       "      <th>ilesos</th>\n",
       "      <th>ignorados</th>\n",
       "      <th>feridos</th>\n",
       "      <th>veiculos</th>\n",
       "    </tr>\n",
       "  </thead>\n",
       "  <tbody>\n",
       "    <tr>\n",
       "      <th>0</th>\n",
       "      <td>2021-01-01</td>\n",
       "      <td>sexta-feira</td>\n",
       "      <td>SP</td>\n",
       "      <td>116.0</td>\n",
       "      <td>453.0</td>\n",
       "      <td>REGISTRO</td>\n",
       "      <td>Reação tardia ou ineficiente do condutor</td>\n",
       "      <td>Tombamento</td>\n",
       "      <td>Com Vítimas Feridas</td>\n",
       "      <td>Amanhecer</td>\n",
       "      <td>...</td>\n",
       "      <td>Dupla</td>\n",
       "      <td>Curva</td>\n",
       "      <td>1</td>\n",
       "      <td>0</td>\n",
       "      <td>1</td>\n",
       "      <td>0</td>\n",
       "      <td>0</td>\n",
       "      <td>0</td>\n",
       "      <td>1</td>\n",
       "      <td>1</td>\n",
       "    </tr>\n",
       "    <tr>\n",
       "      <th>1</th>\n",
       "      <td>2021-01-01</td>\n",
       "      <td>sexta-feira</td>\n",
       "      <td>AM</td>\n",
       "      <td>174.0</td>\n",
       "      <td>937.0</td>\n",
       "      <td>MANAUS</td>\n",
       "      <td>Reação tardia ou ineficiente do condutor</td>\n",
       "      <td>Colisão traseira</td>\n",
       "      <td>Com Vítimas Feridas</td>\n",
       "      <td>Pleno dia</td>\n",
       "      <td>...</td>\n",
       "      <td>Simples</td>\n",
       "      <td>Reta</td>\n",
       "      <td>6</td>\n",
       "      <td>0</td>\n",
       "      <td>1</td>\n",
       "      <td>0</td>\n",
       "      <td>5</td>\n",
       "      <td>0</td>\n",
       "      <td>1</td>\n",
       "      <td>4</td>\n",
       "    </tr>\n",
       "    <tr>\n",
       "      <th>2</th>\n",
       "      <td>2021-01-01</td>\n",
       "      <td>sexta-feira</td>\n",
       "      <td>CE</td>\n",
       "      <td>222.0</td>\n",
       "      <td>128.5</td>\n",
       "      <td>ITAPAJE</td>\n",
       "      <td>Velocidade Incompatível</td>\n",
       "      <td>Tombamento</td>\n",
       "      <td>Com Vítimas Feridas</td>\n",
       "      <td>Pleno dia</td>\n",
       "      <td>...</td>\n",
       "      <td>Simples</td>\n",
       "      <td>Curva</td>\n",
       "      <td>3</td>\n",
       "      <td>0</td>\n",
       "      <td>2</td>\n",
       "      <td>0</td>\n",
       "      <td>0</td>\n",
       "      <td>1</td>\n",
       "      <td>2</td>\n",
       "      <td>2</td>\n",
       "    </tr>\n",
       "    <tr>\n",
       "      <th>3</th>\n",
       "      <td>2021-01-01</td>\n",
       "      <td>sexta-feira</td>\n",
       "      <td>RJ</td>\n",
       "      <td>493.0</td>\n",
       "      <td>18.0</td>\n",
       "      <td>MAGE</td>\n",
       "      <td>Ingestão de álcool e/ou substâncias psicoativa...</td>\n",
       "      <td>Colisão lateral</td>\n",
       "      <td>Com Vítimas Feridas</td>\n",
       "      <td>Pleno dia</td>\n",
       "      <td>...</td>\n",
       "      <td>Simples</td>\n",
       "      <td>Curva</td>\n",
       "      <td>2</td>\n",
       "      <td>0</td>\n",
       "      <td>1</td>\n",
       "      <td>0</td>\n",
       "      <td>1</td>\n",
       "      <td>0</td>\n",
       "      <td>1</td>\n",
       "      <td>2</td>\n",
       "    </tr>\n",
       "    <tr>\n",
       "      <th>4</th>\n",
       "      <td>2021-01-01</td>\n",
       "      <td>sexta-feira</td>\n",
       "      <td>RJ</td>\n",
       "      <td>393.0</td>\n",
       "      <td>252.0</td>\n",
       "      <td>BARRA DO PIRAI</td>\n",
       "      <td>Condutor Dormindo</td>\n",
       "      <td>Colisão frontal</td>\n",
       "      <td>Com Vítimas Feridas</td>\n",
       "      <td>Pleno dia</td>\n",
       "      <td>...</td>\n",
       "      <td>Simples</td>\n",
       "      <td>Reta</td>\n",
       "      <td>3</td>\n",
       "      <td>0</td>\n",
       "      <td>1</td>\n",
       "      <td>1</td>\n",
       "      <td>1</td>\n",
       "      <td>0</td>\n",
       "      <td>2</td>\n",
       "      <td>2</td>\n",
       "    </tr>\n",
       "    <tr>\n",
       "      <th>...</th>\n",
       "      <td>...</td>\n",
       "      <td>...</td>\n",
       "      <td>...</td>\n",
       "      <td>...</td>\n",
       "      <td>...</td>\n",
       "      <td>...</td>\n",
       "      <td>...</td>\n",
       "      <td>...</td>\n",
       "      <td>...</td>\n",
       "      <td>...</td>\n",
       "      <td>...</td>\n",
       "      <td>...</td>\n",
       "      <td>...</td>\n",
       "      <td>...</td>\n",
       "      <td>...</td>\n",
       "      <td>...</td>\n",
       "      <td>...</td>\n",
       "      <td>...</td>\n",
       "      <td>...</td>\n",
       "      <td>...</td>\n",
       "      <td>...</td>\n",
       "    </tr>\n",
       "    <tr>\n",
       "      <th>64534</th>\n",
       "      <td>2021-11-17</td>\n",
       "      <td>quarta-feira</td>\n",
       "      <td>MG</td>\n",
       "      <td>262.0</td>\n",
       "      <td>451.3</td>\n",
       "      <td>NOVA SERRANA</td>\n",
       "      <td>Transitar no acostamento</td>\n",
       "      <td>Colisão transversal</td>\n",
       "      <td>Com Vítimas Feridas</td>\n",
       "      <td>Plena Noite</td>\n",
       "      <td>...</td>\n",
       "      <td>Simples</td>\n",
       "      <td>Desvio Temporário</td>\n",
       "      <td>2</td>\n",
       "      <td>0</td>\n",
       "      <td>1</td>\n",
       "      <td>0</td>\n",
       "      <td>1</td>\n",
       "      <td>0</td>\n",
       "      <td>1</td>\n",
       "      <td>2</td>\n",
       "    </tr>\n",
       "    <tr>\n",
       "      <th>64535</th>\n",
       "      <td>2021-10-27</td>\n",
       "      <td>quarta-feira</td>\n",
       "      <td>MG</td>\n",
       "      <td>116.0</td>\n",
       "      <td>706.4</td>\n",
       "      <td>MURIAE</td>\n",
       "      <td>Acessar a via sem observar a presença dos outr...</td>\n",
       "      <td>Colisão lateral mesmo sentido</td>\n",
       "      <td>Com Vítimas Feridas</td>\n",
       "      <td>Anoitecer</td>\n",
       "      <td>...</td>\n",
       "      <td>Simples</td>\n",
       "      <td>Curva</td>\n",
       "      <td>5</td>\n",
       "      <td>0</td>\n",
       "      <td>2</td>\n",
       "      <td>0</td>\n",
       "      <td>1</td>\n",
       "      <td>2</td>\n",
       "      <td>2</td>\n",
       "      <td>2</td>\n",
       "    </tr>\n",
       "    <tr>\n",
       "      <th>64536</th>\n",
       "      <td>2021-10-28</td>\n",
       "      <td>quinta-feira</td>\n",
       "      <td>RJ</td>\n",
       "      <td>116.0</td>\n",
       "      <td>169.5</td>\n",
       "      <td>SAO JOAO DE MERITI</td>\n",
       "      <td>Condutor deixou de manter distância do veículo...</td>\n",
       "      <td>Colisão lateral mesmo sentido</td>\n",
       "      <td>Com Vítimas Feridas</td>\n",
       "      <td>Pleno dia</td>\n",
       "      <td>...</td>\n",
       "      <td>Múltipla</td>\n",
       "      <td>Reta</td>\n",
       "      <td>2</td>\n",
       "      <td>0</td>\n",
       "      <td>1</td>\n",
       "      <td>0</td>\n",
       "      <td>1</td>\n",
       "      <td>0</td>\n",
       "      <td>1</td>\n",
       "      <td>2</td>\n",
       "    </tr>\n",
       "    <tr>\n",
       "      <th>64537</th>\n",
       "      <td>2021-11-07</td>\n",
       "      <td>domingo</td>\n",
       "      <td>SP</td>\n",
       "      <td>116.0</td>\n",
       "      <td>318.0</td>\n",
       "      <td>JUQUITIBA</td>\n",
       "      <td>Transitar no acostamento</td>\n",
       "      <td>Atropelamento de Pedestre</td>\n",
       "      <td>Com Vítimas Feridas</td>\n",
       "      <td>Plena Noite</td>\n",
       "      <td>...</td>\n",
       "      <td>Dupla</td>\n",
       "      <td>Reta</td>\n",
       "      <td>2</td>\n",
       "      <td>0</td>\n",
       "      <td>0</td>\n",
       "      <td>2</td>\n",
       "      <td>0</td>\n",
       "      <td>0</td>\n",
       "      <td>2</td>\n",
       "      <td>1</td>\n",
       "    </tr>\n",
       "    <tr>\n",
       "      <th>64538</th>\n",
       "      <td>2021-08-25</td>\n",
       "      <td>quarta-feira</td>\n",
       "      <td>RO</td>\n",
       "      <td>364.0</td>\n",
       "      <td>970.0</td>\n",
       "      <td>PORTO VELHO</td>\n",
       "      <td>Acessar a via sem observar a presença dos outr...</td>\n",
       "      <td>Colisão traseira</td>\n",
       "      <td>Com Vítimas Feridas</td>\n",
       "      <td>Pleno dia</td>\n",
       "      <td>...</td>\n",
       "      <td>Simples</td>\n",
       "      <td>Reta</td>\n",
       "      <td>4</td>\n",
       "      <td>0</td>\n",
       "      <td>0</td>\n",
       "      <td>3</td>\n",
       "      <td>1</td>\n",
       "      <td>0</td>\n",
       "      <td>3</td>\n",
       "      <td>2</td>\n",
       "    </tr>\n",
       "  </tbody>\n",
       "</table>\n",
       "<p>64276 rows × 21 columns</p>\n",
       "</div>"
      ],
      "text/plain": [
       "      data_inversa    dia_semana  uf     br     km           municipio  \\\n",
       "0       2021-01-01   sexta-feira  SP  116.0  453.0            REGISTRO   \n",
       "1       2021-01-01   sexta-feira  AM  174.0  937.0              MANAUS   \n",
       "2       2021-01-01   sexta-feira  CE  222.0  128.5             ITAPAJE   \n",
       "3       2021-01-01   sexta-feira  RJ  493.0   18.0                MAGE   \n",
       "4       2021-01-01   sexta-feira  RJ  393.0  252.0      BARRA DO PIRAI   \n",
       "...            ...           ...  ..    ...    ...                 ...   \n",
       "64534   2021-11-17  quarta-feira  MG  262.0  451.3        NOVA SERRANA   \n",
       "64535   2021-10-27  quarta-feira  MG  116.0  706.4              MURIAE   \n",
       "64536   2021-10-28  quinta-feira  RJ  116.0  169.5  SAO JOAO DE MERITI   \n",
       "64537   2021-11-07       domingo  SP  116.0  318.0           JUQUITIBA   \n",
       "64538   2021-08-25  quarta-feira  RO  364.0  970.0         PORTO VELHO   \n",
       "\n",
       "                                          causa_acidente  \\\n",
       "0               Reação tardia ou ineficiente do condutor   \n",
       "1               Reação tardia ou ineficiente do condutor   \n",
       "2                                Velocidade Incompatível   \n",
       "3      Ingestão de álcool e/ou substâncias psicoativa...   \n",
       "4                                      Condutor Dormindo   \n",
       "...                                                  ...   \n",
       "64534                           Transitar no acostamento   \n",
       "64535  Acessar a via sem observar a presença dos outr...   \n",
       "64536  Condutor deixou de manter distância do veículo...   \n",
       "64537                           Transitar no acostamento   \n",
       "64538  Acessar a via sem observar a presença dos outr...   \n",
       "\n",
       "                       tipo_acidente classificacao_acidente     fase_dia  ...  \\\n",
       "0                         Tombamento    Com Vítimas Feridas    Amanhecer  ...   \n",
       "1                   Colisão traseira    Com Vítimas Feridas    Pleno dia  ...   \n",
       "2                         Tombamento    Com Vítimas Feridas    Pleno dia  ...   \n",
       "3                    Colisão lateral    Com Vítimas Feridas    Pleno dia  ...   \n",
       "4                    Colisão frontal    Com Vítimas Feridas    Pleno dia  ...   \n",
       "...                              ...                    ...          ...  ...   \n",
       "64534            Colisão transversal    Com Vítimas Feridas  Plena Noite  ...   \n",
       "64535  Colisão lateral mesmo sentido    Com Vítimas Feridas    Anoitecer  ...   \n",
       "64536  Colisão lateral mesmo sentido    Com Vítimas Feridas    Pleno dia  ...   \n",
       "64537      Atropelamento de Pedestre    Com Vítimas Feridas  Plena Noite  ...   \n",
       "64538               Colisão traseira    Com Vítimas Feridas    Pleno dia  ...   \n",
       "\n",
       "      tipo_pista        tracado_via pessoas  mortos  feridos_leves  \\\n",
       "0          Dupla              Curva       1       0              1   \n",
       "1        Simples               Reta       6       0              1   \n",
       "2        Simples              Curva       3       0              2   \n",
       "3        Simples              Curva       2       0              1   \n",
       "4        Simples               Reta       3       0              1   \n",
       "...          ...                ...     ...     ...            ...   \n",
       "64534    Simples  Desvio Temporário       2       0              1   \n",
       "64535    Simples              Curva       5       0              2   \n",
       "64536   Múltipla               Reta       2       0              1   \n",
       "64537      Dupla               Reta       2       0              0   \n",
       "64538    Simples               Reta       4       0              0   \n",
       "\n",
       "       feridos_graves  ilesos  ignorados  feridos  veiculos  \n",
       "0                   0       0          0        1         1  \n",
       "1                   0       5          0        1         4  \n",
       "2                   0       0          1        2         2  \n",
       "3                   0       1          0        1         2  \n",
       "4                   1       1          0        2         2  \n",
       "...               ...     ...        ...      ...       ...  \n",
       "64534               0       1          0        1         2  \n",
       "64535               0       1          2        2         2  \n",
       "64536               0       1          0        1         2  \n",
       "64537               2       0          0        2         1  \n",
       "64538               3       1          0        3         2  \n",
       "\n",
       "[64276 rows x 21 columns]"
      ]
     },
     "execution_count": 17,
     "metadata": {},
     "output_type": "execute_result"
    }
   ],
   "source": [
    "df2 = new_df.drop(['id', 'horario', 'sentido_via', 'uso_solo', 'latitude', 'longitude', 'regional',\n",
    "       'delegacia', 'uop'], axis = 1)\n",
    "df2"
   ]
  },
  {
   "cell_type": "markdown",
   "id": "86677348-86c3-4658-b15a-668cf6d6b141",
   "metadata": {
    "tags": []
   },
   "source": [
    "### Alanise individual de colunas"
   ]
  },
  {
   "cell_type": "code",
   "execution_count": 18,
   "id": "89515ac2-2645-4bec-b2e2-315dbd02635f",
   "metadata": {},
   "outputs": [
    {
     "data": {
      "text/plain": [
       "Index(['data_inversa', 'dia_semana', 'uf', 'br', 'km', 'municipio',\n",
       "       'causa_acidente', 'tipo_acidente', 'classificacao_acidente', 'fase_dia',\n",
       "       'condicao_metereologica', 'tipo_pista', 'tracado_via', 'pessoas',\n",
       "       'mortos', 'feridos_leves', 'feridos_graves', 'ilesos', 'ignorados',\n",
       "       'feridos', 'veiculos'],\n",
       "      dtype='object')"
      ]
     },
     "execution_count": 18,
     "metadata": {},
     "output_type": "execute_result"
    }
   ],
   "source": [
    "df2.columns"
   ]
  },
  {
   "cell_type": "markdown",
   "id": "6d3f9b97-35ec-4eac-959b-2f33719bb950",
   "metadata": {
    "jp-MarkdownHeadingCollapsed": true,
    "tags": []
   },
   "source": [
    "#### -Datas\n"
   ]
  },
  {
   "cell_type": "markdown",
   "id": "ceea6178-c637-48a3-a047-2a84829a8868",
   "metadata": {
    "jp-MarkdownHeadingCollapsed": true,
    "tags": []
   },
   "source": [
    "##### series"
   ]
  },
  {
   "cell_type": "code",
   "execution_count": 19,
   "id": "49be66a5-4e44-475d-b495-431fbfd5c624",
   "metadata": {},
   "outputs": [
    {
     "data": {
      "text/plain": [
       "2021-10-09    281\n",
       "2021-08-08    279\n",
       "2021-07-11    261\n",
       "2021-12-18    258\n",
       "2021-09-04    257\n",
       "             ... \n",
       "2021-03-23    124\n",
       "2021-03-18    123\n",
       "2021-03-22    122\n",
       "2021-06-16    121\n",
       "2021-03-16    120\n",
       "Name: data_inversa, Length: 365, dtype: int64"
      ]
     },
     "execution_count": 19,
     "metadata": {},
     "output_type": "execute_result"
    }
   ],
   "source": [
    "Series_Data = df2['data_inversa'].value_counts()\n",
    "Series_Data"
   ]
  },
  {
   "cell_type": "code",
   "execution_count": 20,
   "id": "62fc3d24-4914-4d16-bdce-2a1c298d7a2f",
   "metadata": {},
   "outputs": [
    {
     "data": {
      "text/plain": [
       "sábado           10829\n",
       "domingo          10782\n",
       "sexta-feira      10125\n",
       "segunda-feira     8606\n",
       "quinta-feira      8207\n",
       "quarta-feira      7970\n",
       "terça-feira       7757\n",
       "Name: dia_semana, dtype: int64"
      ]
     },
     "execution_count": 20,
     "metadata": {},
     "output_type": "execute_result"
    }
   ],
   "source": [
    "Series_Dia_semana = df2['dia_semana'].value_counts()\n",
    "Series_Dia_semana"
   ]
  },
  {
   "cell_type": "code",
   "execution_count": 21,
   "id": "25ddd397-e0bb-4b3c-aef4-0563d8fc8a55",
   "metadata": {},
   "outputs": [
    {
     "data": {
      "text/plain": [
       "Pleno dia      34785\n",
       "Plena Noite    23102\n",
       "Anoitecer       3654\n",
       "Amanhecer       2998\n",
       "Name: fase_dia, dtype: int64"
      ]
     },
     "execution_count": 21,
     "metadata": {},
     "output_type": "execute_result"
    }
   ],
   "source": [
    "Series_Fase_Dia = df['fase_dia'].value_counts()\n",
    "Series_Fase_Dia"
   ]
  },
  {
   "cell_type": "raw",
   "id": "b2ef2f64-997b-45ac-b50f-e6be7bb424a1",
   "metadata": {},
   "source": [
    "Verificando as colunas, nota-se que a data_inversa possui valores demais para se criar um gráfico sem filtrar essa grande quantidade"
   ]
  },
  {
   "cell_type": "markdown",
   "id": "cb447f75-5a7d-435b-bc37-595b789bb61c",
   "metadata": {
    "tags": []
   },
   "source": [
    "#####   -Gráficos"
   ]
  },
  {
   "cell_type": "code",
   "execution_count": 22,
   "id": "757ecb4f-0c61-46a6-a085-19cadeaee9a5",
   "metadata": {},
   "outputs": [
    {
     "data": {
      "image/png": "[encoded data removed]",
      "text/plain": [
       "<Figure size 432x288 with 1 Axes>"
      ]
     },
     "metadata": {
      "needs_background": "light"
     },
     "output_type": "display_data"
    }
   ],
   "source": [
    "Series_Data[0:10].plot.bar(title = 'Dias com mais acidentes'); #teste gráfico de barras comum"
   ]
  },
  {
   "cell_type": "code",
   "execution_count": 23,
   "id": "334443fe-2f2c-4b7c-b645-6d2334731c30",
   "metadata": {},
   "outputs": [
    {
     "data": {
      "image/png": "[encoded data removed]",
      "text/plain": [
       "<Figure size 432x288 with 1 Axes>"
      ]
     },
     "metadata": {},
     "output_type": "display_data"
    }
   ],
   "source": [
    "grafico_dia_semana = pd.DataFrame(Series_Dia_semana)\n",
    "explode = (0.05, 0.05, 0.05, 0.05, 0.05, 0.05, 0.05)\n",
    "titulo_DS = 'Destribuição de acidentes por dia da semana'\n",
    "grafico_dia_semana.plot.pie(y = 'dia_semana', autopct='%1.0f%%', explode=explode, title = titulo_DS, legend = False);\n",
    "#teste gráfico de pizza, com diversos metodos"
   ]
  },
  {
   "cell_type": "code",
   "execution_count": 24,
   "id": "939f269a-64d7-460a-9887-c613658f4112",
   "metadata": {},
   "outputs": [
    {
     "data": {
      "image/png": "[encoded data removed]",
      "text/plain": [
       "<Figure size 432x288 with 1 Axes>"
      ]
     },
     "metadata": {},
     "output_type": "display_data"
    }
   ],
   "source": [
    "grafico_turno = pd.DataFrame(Series_Fase_Dia)\n",
    "titulo_FS = 'Destribuição de acidentes por turno do dia'\n",
    "grafico_turno.plot.pie(y = 'fase_dia', autopct='%1.0f%%', title = titulo_FS, legend = False); #teste gráfico de pizza mais comum"
   ]
  },
  {
   "cell_type": "markdown",
   "id": "7f03043f-fabb-4f32-953c-07e1da198ea6",
   "metadata": {
    "jp-MarkdownHeadingCollapsed": true,
    "tags": []
   },
   "source": [
    "#### -Localização"
   ]
  },
  {
   "cell_type": "code",
   "execution_count": 25,
   "id": "a03ea140-feea-440b-a23c-b0281ac51213",
   "metadata": {},
   "outputs": [
    {
     "data": {
      "text/plain": [
       "MG    8315\n",
       "SC    7884\n",
       "PR    7220\n",
       "RJ    4548\n",
       "RS    4527\n",
       "SP    4292\n",
       "BA    3310\n",
       "GO    3184\n",
       "PE    2546\n",
       "ES    2520\n",
       "MT    2132\n",
       "MS    1638\n",
       "CE    1541\n",
       "PB    1435\n",
       "RO    1397\n",
       "RN    1338\n",
       "PI    1136\n",
       "MA    1131\n",
       "DF     975\n",
       "PA     839\n",
       "AL     578\n",
       "SE     509\n",
       "TO     497\n",
       "RR     267\n",
       "AC     254\n",
       "AP     170\n",
       "AM      93\n",
       "Name: uf, dtype: int64"
      ]
     },
     "execution_count": 25,
     "metadata": {},
     "output_type": "execute_result"
    }
   ],
   "source": [
    "Series_UF = df2.uf.value_counts()\n",
    "Series_UF"
   ]
  },
  {
   "cell_type": "code",
   "execution_count": 26,
   "id": "9871ced5-cf3f-494c-84f5-bcb75d649e60",
   "metadata": {},
   "outputs": [
    {
     "data": {
      "text/plain": [
       "101.0    11183\n",
       "116.0     9702\n",
       "40.0      3142\n",
       "381.0     2945\n",
       "153.0     2425\n",
       "         ...  \n",
       "122.0        2\n",
       "434.0        2\n",
       "475.0        1\n",
       "426.0        1\n",
       "433.0        1\n",
       "Name: br, Length: 113, dtype: int64"
      ]
     },
     "execution_count": 26,
     "metadata": {},
     "output_type": "execute_result"
    }
   ],
   "source": [
    "Series_BR = df2.br.value_counts()\n",
    "Series_BR"
   ]
  },
  {
   "cell_type": "code",
   "execution_count": 58,
   "id": "9b4716e4-c2c2-4caa-a1a8-2242b5bbf9b9",
   "metadata": {},
   "outputs": [
    {
     "data": {
      "text/plain": [
       "2.0      277\n",
       "5.0      266\n",
       "1.0      263\n",
       "3.0      255\n",
       "4.0      223\n",
       "        ... \n",
       "728.1      1\n",
       "817.8      1\n",
       "702.7      1\n",
       "784.3      1\n",
       "706.4      1\n",
       "Name: km, Length: 7721, dtype: int64"
      ]
     },
     "execution_count": 58,
     "metadata": {},
     "output_type": "execute_result"
    }
   ],
   "source": [
    "Series_km = df2.km.value_counts()\n",
    "Series_km"
   ]
  },
  {
   "cell_type": "code",
   "execution_count": 119,
   "id": "23848564-b7c1-4b38-bb63-e875b094f6ff",
   "metadata": {},
   "outputs": [
    {
     "data": {
      "text/plain": [
       "BRASILIA           975\n",
       "CURITIBA           899\n",
       "SAO JOSE           688\n",
       "GUARULHOS          670\n",
       "PALHOCA            609\n",
       "                  ... \n",
       "BARRA FUNDA          1\n",
       "CARACOL              1\n",
       "CORONEL JOAO SA      1\n",
       "NOVA PONTE           1\n",
       "GUAMARE              1\n",
       "Name: municipio, Length: 1782, dtype: int64"
      ]
     },
     "execution_count": 119,
     "metadata": {},
     "output_type": "execute_result"
    }
   ],
   "source": [
    "Series_Municipio = df2['municipio'].value_counts()\n",
    "Series_Municipio"
   ]
  },
  {
   "cell_type": "raw",
   "id": "03eb0182-4649-423a-a9ce-d09ec4ccb579",
   "metadata": {},
   "source": [
    "Como todas as colunas citadas acima possuem muitas linhas, elas serão filtradas para poderem ser analizadas."
   ]
  },
  {
   "cell_type": "code",
   "execution_count": 29,
   "id": "c1658ebb-53c1-4b91-9e69-80e38f5e0f69",
   "metadata": {},
   "outputs": [
    {
     "data": {
      "image/png": "[encoded data removed]",
      "text/plain": [
       "<Figure size 432x288 with 1 Axes>"
      ]
     },
     "metadata": {
      "needs_background": "light"
     },
     "output_type": "display_data"
    }
   ],
   "source": [
    "Nordeste = ['PB', 'BA', 'PE', 'RN', 'SE', 'AL', 'MA', 'CE', 'PI']\n",
    "tit_NORD = 'Estados do Nordeste com mais acidentes'\n",
    "Series_UF[Nordeste].sort_values(ascending = False).plot.bar(title = tit_NORD);"
   ]
  },
  {
   "cell_type": "code",
   "execution_count": 59,
   "id": "d5003868-0f17-40ae-892a-d94910d3c431",
   "metadata": {},
   "outputs": [
    {
     "data": {
      "image/png": "[encoded data removed]",
      "text/plain": [
       "<Figure size 432x288 with 1 Axes>"
      ]
     },
     "metadata": {
      "needs_background": "light"
     },
     "output_type": "display_data"
    }
   ],
   "source": [
    "tit_BR = 'BR com mais Acidentes'\n",
    "cores = ['r', 'b', 'g', 'y', 'm'] #teste adicionando cores(intencional ficar feio)\n",
    "Series_BR.head().plot.barh(title = tit_BR, color = cores); #teste grafico de barra na horizontal\n"
   ]
  },
  {
   "cell_type": "code",
   "execution_count": 118,
   "id": "ab15152a-2ec3-43d8-bd68-a3fd211d1424",
   "metadata": {},
   "outputs": [
    {
     "data": {
      "image/png": "[encoded data removed]",
      "text/plain": [
       "<Figure size 432x288 with 1 Axes>"
      ]
     },
     "metadata": {
      "needs_background": "light"
     },
     "output_type": "display_data"
    }
   ],
   "source": [
    "tit_KM = 'km com mais acidentes no Brasil'\n",
    "Series_km.iloc[0:15].plot.barh(title = tit_KM, color = 'c', edgecolor = 'b'); "
   ]
  },
  {
   "cell_type": "code",
   "execution_count": 155,
   "id": "265595a2-5f37-47b8-8ef1-bf08013bce0f",
   "metadata": {},
   "outputs": [
    {
     "data": {
      "image/png": "[encoded data removed]",
      "text/plain": [
       "<Figure size 432x288 with 1 Axes>"
      ]
     },
     "metadata": {
      "needs_background": "light"
     },
     "output_type": "display_data"
    }
   ],
   "source": [
    "Series_Municipio.iloc[0:17].plot.bar();"
   ]
  },
  {
   "cell_type": "markdown",
   "id": "cdff629e-a8a7-42a5-a79a-18304404d1d9",
   "metadata": {
    "jp-MarkdownHeadingCollapsed": true,
    "tags": []
   },
   "source": [
    "#### Detalhes acidente"
   ]
  },
  {
   "cell_type": "code",
   "execution_count": 160,
   "id": "7213b5b2-641d-4654-ad2f-ab8355826998",
   "metadata": {},
   "outputs": [
    {
     "data": {
      "text/plain": [
       "Reação tardia ou ineficiente do condutor                     6880\n",
       "Velocidade Incompatível                                      6718\n",
       "Ausência de reação do condutor                               5592\n",
       "Acessar a via sem observar a presença dos outros veículos    5165\n",
       "Condutor deixou de manter distância do veículo da frente     5109\n",
       "                                                             ... \n",
       "Modificação proibida                                            8\n",
       "Redutor de velocidade em desacordo                              8\n",
       "Participar de racha                                             7\n",
       "Sistema de drenagem ineficiente                                 3\n",
       "Sinalização encoberta                                           2\n",
       "Name: causa_acidente, Length: 71, dtype: int64"
      ]
     },
     "execution_count": 160,
     "metadata": {},
     "output_type": "execute_result"
    }
   ],
   "source": [
    "Series_CA = df2['causa_acidente'].value_counts()\n",
    "Series_CA "
   ]
  },
  {
   "cell_type": "code",
   "execution_count": 187,
   "id": "f9a4d906-7057-4112-bd83-bec8a5fd11ab",
   "metadata": {},
   "outputs": [
    {
     "data": {
      "text/plain": [
       "Colisão traseira                  12260\n",
       "Saída de leito carroçável         10615\n",
       "Colisão transversal                7986\n",
       "Tombamento                         5556\n",
       "Colisão lateral mesmo sentido      5552\n",
       "Colisão com objeto                 4875\n",
       "Colisão frontal                    4326\n",
       "Atropelamento de Pedestre          2897\n",
       "Queda de ocupante de veículo       2579\n",
       "Capotamento                        1748\n",
       "Colisão lateral sentido oposto     1597\n",
       "Incêndio                           1169\n",
       "Engavetamento                      1051\n",
       "Atropelamento de Animal             975\n",
       "Colisão lateral                     671\n",
       "Eventos atípicos                    263\n",
       "Derramamento de carga               156\n",
       "Name: tipo_acidente, dtype: int64"
      ]
     },
     "execution_count": 187,
     "metadata": {},
     "output_type": "execute_result"
    }
   ],
   "source": [
    "Series_Tipo_Acid = df2['tipo_acidente'].value_counts()\n",
    "Series_Tipo_Acid"
   ]
  },
  {
   "cell_type": "code",
   "execution_count": 207,
   "id": "41a41f5b-1ead-4ed5-8a42-8c4ebd15b8bd",
   "metadata": {},
   "outputs": [
    {
     "data": {
      "text/plain": [
       "Com Vítimas Feridas    48052\n",
       "Sem Vítimas            11575\n",
       "Com Vítimas Fatais      4649\n",
       "Name: classificacao_acidente, dtype: int64"
      ]
     },
     "execution_count": 207,
     "metadata": {},
     "output_type": "execute_result"
    }
   ],
   "source": [
    "Series_Clas_Acid = df2['classificacao_acidente'].value_counts()\n",
    "Series_Clas_Acid"
   ]
  },
  {
   "cell_type": "markdown",
   "id": "a7d5b1ce-fe46-45ff-ac59-5eb41eabd063",
   "metadata": {},
   "source": [
    "##### Gráficos"
   ]
  },
  {
   "cell_type": "code",
   "execution_count": 209,
   "id": "1e125690-009d-42fb-b88e-4a8d52467f58",
   "metadata": {},
   "outputs": [
    {
     "data": {
      "image/png": "[encoded data removed]",
      "text/plain": [
       "<Figure size 432x288 with 1 Axes>"
      ]
     },
     "metadata": {
      "needs_background": "light"
     },
     "output_type": "display_data"
    }
   ],
   "source": [
    "Series_CA.iloc[60:71].plot.barh(title = 'Motivos dos Acidentes') #grafico com os menos ocorridos\n",
    "\n",
    "labels_CA = [0, 1, 2, 3, 4, 5, 6, 7, 8, 9, 10, 11, 12, 13, 14, 15, 16] #Dados para o eixo x\n",
    "plt.xticks(range(len(labels_CA)), labels_CA); #gráfico com valores do eixo X mais visíveis"
   ]
  },
  {
   "cell_type": "code",
   "execution_count": 214,
   "id": "b04f8e08-a5d5-4ce4-b008-4c337f499c47",
   "metadata": {},
   "outputs": [
    {
     "data": {
      "image/png": "[encoded data removed]",
      "text/plain": [
       "<Figure size 432x288 with 1 Axes>"
      ]
     },
     "metadata": {},
     "output_type": "display_data"
    }
   ],
   "source": [
    "explode_Tipo_Acid = [0.1]*10\n",
    "titulo_DS = 'Taxa dos tipos de acidentes'\n",
    "Series_Tipo_Acid.iloc[0:10].plot.pie(y = 'tipo_acidente', explode = explode_Tipo_Acid, autopct='%1.0f%%', title = titulo_DS, legend = False);\n",
    "#gráfico com a taxa dos 10 mais frequentes tipos dos acidentes, a qual a taxa varia pouco se olhada em relação ao geral"
   ]
  },
  {
   "cell_type": "code",
   "execution_count": 230,
   "id": "27d2ae29-3efe-41f8-b617-25d0796d28ab",
   "metadata": {},
   "outputs": [
    {
     "data": {
      "image/png": "[encoded data removed]",
      "text/plain": [
       "<Figure size 432x288 with 1 Axes>"
      ]
     },
     "metadata": {},
     "output_type": "display_data"
    }
   ],
   "source": [
    "titulo_DS = 'Taxa de ferimento'\n",
    "cores_DS = ['#00FFFF', '#8A2BE2', '#DEB887'] #teste com # de cores\n",
    "Series_Clas_Acid.iloc[0:10].plot.pie(y = 'tipo_acidente', autopct='%1.0f%%', title = titulo_DS, legend = False, colors = cores_DS);"
   ]
  },
  {
   "cell_type": "markdown",
   "id": "a92962d5-0f7c-497b-8eed-b7b2eed83542",
   "metadata": {
    "jp-MarkdownHeadingCollapsed": true,
    "tags": []
   },
   "source": [
    "#### Condições"
   ]
  },
  {
   "cell_type": "code",
   "execution_count": 33,
   "id": "273deec6-b2ea-4421-a88a-54d278eeae9d",
   "metadata": {},
   "outputs": [
    {
     "data": {
      "text/plain": [
       "Céu Claro           38808\n",
       "Nublado             10919\n",
       "Chuva                6696\n",
       "Sol                  4274\n",
       "Garoa/Chuvisco       2140\n",
       "Ignorado              805\n",
       "Nevoeiro/Neblina      486\n",
       "Vento                 143\n",
       "Neve                    3\n",
       "Granizo                 2\n",
       "Name: condicao_metereologica, dtype: int64"
      ]
     },
     "execution_count": 33,
     "metadata": {},
     "output_type": "execute_result"
    }
   ],
   "source": [
    "df2['condicao_metereologica'].value_counts()"
   ]
  },
  {
   "cell_type": "code",
   "execution_count": 34,
   "id": "488a1630-5444-49d3-9d94-ac09cf8d81af",
   "metadata": {},
   "outputs": [
    {
     "data": {
      "text/plain": [
       "Simples     31615\n",
       "Dupla       27163\n",
       "Múltipla     5498\n",
       "Name: tipo_pista, dtype: int64"
      ]
     },
     "execution_count": 34,
     "metadata": {},
     "output_type": "execute_result"
    }
   ],
   "source": [
    "df2['tipo_pista'].value_counts()"
   ]
  },
  {
   "cell_type": "code",
   "execution_count": 35,
   "id": "b676f56d-7478-40a3-9fd1-56bff6ca64a1",
   "metadata": {},
   "outputs": [
    {
     "data": {
      "text/plain": [
       "Reta                     38910\n",
       "Curva                     9777\n",
       "Não Informado             8240\n",
       "Interseção de vias        2684\n",
       "Desvio Temporário         1807\n",
       "Rotatória                 1173\n",
       "Retorno Regulamentado      777\n",
       "Viaduto                    456\n",
       "Ponte                      362\n",
       "Túnel                       90\n",
       "Name: tracado_via, dtype: int64"
      ]
     },
     "execution_count": 35,
     "metadata": {},
     "output_type": "execute_result"
    }
   ],
   "source": [
    "df2['tracado_via'].value_counts()"
   ]
  },
  {
   "cell_type": "markdown",
   "id": "1fe9bd4a-8d08-4001-827c-3e55cc3f2580",
   "metadata": {
    "jp-MarkdownHeadingCollapsed": true,
    "tags": []
   },
   "source": [
    "#### Envolvidos(pessoa e veiculo)\n"
   ]
  },
  {
   "cell_type": "code",
   "execution_count": 36,
   "id": "9114e86c-7c38-4b08-9f41-7bd45c428011",
   "metadata": {},
   "outputs": [
    {
     "data": {
      "text/plain": [
       "2     26941\n",
       "1     17614\n",
       "3     11140\n",
       "4      4471\n",
       "5      2090\n",
       "6       947\n",
       "7       448\n",
       "8       217\n",
       "9       137\n",
       "10       52\n",
       "12       39\n",
       "11       31\n",
       "13       21\n",
       "15       14\n",
       "16       10\n",
       "14       10\n",
       "17        8\n",
       "24        6\n",
       "26        5\n",
       "45        5\n",
       "18        5\n",
       "21        5\n",
       "47        4\n",
       "20        4\n",
       "25        4\n",
       "38        4\n",
       "19        4\n",
       "39        3\n",
       "52        3\n",
       "54        2\n",
       "53        2\n",
       "42        2\n",
       "46        2\n",
       "32        2\n",
       "57        2\n",
       "30        2\n",
       "27        2\n",
       "31        2\n",
       "43        2\n",
       "41        2\n",
       "33        2\n",
       "56        1\n",
       "49        1\n",
       "35        1\n",
       "22        1\n",
       "48        1\n",
       "23        1\n",
       "51        1\n",
       "50        1\n",
       "36        1\n",
       "70        1\n",
       "Name: pessoas, dtype: int64"
      ]
     },
     "execution_count": 36,
     "metadata": {},
     "output_type": "execute_result"
    }
   ],
   "source": [
    "df2['pessoas'].value_counts()"
   ]
  },
  {
   "cell_type": "code",
   "execution_count": 37,
   "id": "e6067ab6-d72b-4f8e-82a3-788ff817ce1d",
   "metadata": {},
   "outputs": [
    {
     "data": {
      "text/plain": [
       "2     30503\n",
       "1     28888\n",
       "3      3720\n",
       "4       832\n",
       "5       209\n",
       "6        71\n",
       "7        24\n",
       "8        14\n",
       "9         4\n",
       "10        4\n",
       "11        3\n",
       "12        3\n",
       "14        1\n",
       "Name: veiculos, dtype: int64"
      ]
     },
     "execution_count": 37,
     "metadata": {},
     "output_type": "execute_result"
    }
   ],
   "source": [
    "df2['veiculos'].value_counts()"
   ]
  },
  {
   "cell_type": "code",
   "execution_count": 38,
   "id": "b4c31151-75f4-4da0-b2a7-18a6e382fb38",
   "metadata": {},
   "outputs": [
    {
     "data": {
      "text/plain": [
       "0     55378\n",
       "1      7834\n",
       "2       898\n",
       "3       124\n",
       "4        19\n",
       "5        12\n",
       "6         5\n",
       "42        1\n",
       "10        1\n",
       "8         1\n",
       "19        1\n",
       "11        1\n",
       "17        1\n",
       "Name: ignorados, dtype: int64"
      ]
     },
     "execution_count": 38,
     "metadata": {},
     "output_type": "execute_result"
    }
   ],
   "source": [
    "df2['ignorados'].value_counts()"
   ]
  },
  {
   "cell_type": "markdown",
   "id": "0e4de7cc-b830-4ba9-9429-500a6d32c1cd",
   "metadata": {
    "jp-MarkdownHeadingCollapsed": true,
    "tags": []
   },
   "source": [
    "#### Gravidade dos acidentados"
   ]
  },
  {
   "cell_type": "code",
   "execution_count": 39,
   "id": "3d1c1525-8a5d-4f80-af8d-8b93d175e7be",
   "metadata": {},
   "outputs": [
    {
     "data": {
      "text/plain": [
       "0     59627\n",
       "1      4137\n",
       "2       396\n",
       "3        64\n",
       "4        32\n",
       "5        14\n",
       "6         2\n",
       "12        2\n",
       "7         1\n",
       "19        1\n",
       "Name: mortos, dtype: int64"
      ]
     },
     "execution_count": 39,
     "metadata": {},
     "output_type": "execute_result"
    }
   ],
   "source": [
    "df2['mortos'].value_counts()"
   ]
  },
  {
   "cell_type": "code",
   "execution_count": 40,
   "id": "34029790-99a9-4dca-a615-2bc7f037253a",
   "metadata": {},
   "outputs": [
    {
     "data": {
      "text/plain": [
       "1     29366\n",
       "0     25020\n",
       "2      7273\n",
       "3      1574\n",
       "4       635\n",
       "5       247\n",
       "6        58\n",
       "7        27\n",
       "8        17\n",
       "9        10\n",
       "11        9\n",
       "12        6\n",
       "10        6\n",
       "18        5\n",
       "17        3\n",
       "15        3\n",
       "13        2\n",
       "44        2\n",
       "35        1\n",
       "20        1\n",
       "34        1\n",
       "25        1\n",
       "31        1\n",
       "39        1\n",
       "23        1\n",
       "21        1\n",
       "14        1\n",
       "19        1\n",
       "22        1\n",
       "26        1\n",
       "28        1\n",
       "Name: feridos_leves, dtype: int64"
      ]
     },
     "execution_count": 40,
     "metadata": {},
     "output_type": "execute_result"
    }
   ],
   "source": [
    "df2['feridos_leves'].value_counts()"
   ]
  },
  {
   "cell_type": "code",
   "execution_count": 41,
   "id": "63072158-0ecf-4aa6-8389-eb6fa95a3871",
   "metadata": {},
   "outputs": [
    {
     "data": {
      "text/plain": [
       "0     49885\n",
       "1     12116\n",
       "2      1766\n",
       "3       324\n",
       "4       103\n",
       "5        46\n",
       "6        17\n",
       "7         4\n",
       "12        3\n",
       "8         3\n",
       "10        2\n",
       "23        2\n",
       "15        2\n",
       "9         1\n",
       "13        1\n",
       "26        1\n",
       "Name: feridos_graves, dtype: int64"
      ]
     },
     "execution_count": 41,
     "metadata": {},
     "output_type": "execute_result"
    }
   ],
   "source": [
    "df2['feridos_graves'].value_counts()"
   ]
  },
  {
   "cell_type": "code",
   "execution_count": 42,
   "id": "552931bd-09c0-469b-a4b6-b0d1e8024b72",
   "metadata": {},
   "outputs": [
    {
     "data": {
      "text/plain": [
       "1     26252\n",
       "0     24602\n",
       "2      8774\n",
       "3      2690\n",
       "4      1072\n",
       "5       416\n",
       "6       198\n",
       "7        89\n",
       "8        51\n",
       "9        25\n",
       "11       15\n",
       "12       11\n",
       "10       11\n",
       "13        8\n",
       "23        6\n",
       "18        4\n",
       "41        4\n",
       "20        4\n",
       "25        3\n",
       "15        3\n",
       "14        3\n",
       "21        3\n",
       "37        2\n",
       "26        2\n",
       "17        2\n",
       "46        2\n",
       "16        2\n",
       "38        2\n",
       "19        2\n",
       "32        2\n",
       "29        2\n",
       "47        2\n",
       "27        2\n",
       "44        1\n",
       "52        1\n",
       "53        1\n",
       "50        1\n",
       "36        1\n",
       "30        1\n",
       "49        1\n",
       "35        1\n",
       "45        1\n",
       "40        1\n",
       "Name: ilesos, dtype: int64"
      ]
     },
     "execution_count": 42,
     "metadata": {},
     "output_type": "execute_result"
    }
   ],
   "source": [
    "df2['ilesos'].value_counts()"
   ]
  }
 ],
 "metadata": {
  "kernelspec": {
   "display_name": "Python 3 (ipykernel)",
   "language": "python",
   "name": "python3"
  },
  "language_info": {
   "codemirror_mode": {
    "name": "ipython",
    "version": 3
   },
   "file_extension": ".py",
   "mimetype": "text/x-python",
   "name": "python",
   "nbconvert_exporter": "python",
   "pygments_lexer": "ipython3",
   "version": "3.9.12"
  },
  "toc-autonumbering": true,
  "toc-showcode": true,
  "toc-showmarkdowntxt": true
 },
 "nbformat": 4,
 "nbformat_minor": 5
}
